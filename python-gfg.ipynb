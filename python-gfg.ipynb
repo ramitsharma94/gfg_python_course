{
  "nbformat": 4,
  "nbformat_minor": 0,
  "metadata": {
    "colab": {
      "provenance": [],
      "authorship_tag": "ABX9TyN6IjtH8QN9kkj8gHsoNDVk",
      "include_colab_link": true
    },
    "kernelspec": {
      "name": "python3",
      "display_name": "Python 3"
    },
    "language_info": {
      "name": "python"
    }
  },
  "cells": [
    {
      "cell_type": "markdown",
      "metadata": {
        "id": "view-in-github",
        "colab_type": "text"
      },
      "source": [
        "<a href=\"https://colab.research.google.com/github/ramitsharma94/gfg_python_course/blob/main/python-gfg.ipynb\" target=\"_parent\"><img src=\"https://colab.research.google.com/assets/colab-badge.svg\" alt=\"Open In Colab\"/></a>"
      ]
    },
    {
      "cell_type": "code",
      "execution_count": 1,
      "metadata": {
        "id": "tQ_HbSnc2Bjp"
      },
      "outputs": [],
      "source": [
        "# GFG Python Course\n"
      ]
    },
    {
      "cell_type": "markdown",
      "source": [
        "## LIST"
      ],
      "metadata": {
        "id": "UhXZCRMh2PkF"
      }
    },
    {
      "cell_type": "code",
      "source": [],
      "metadata": {
        "id": "IRwEo7i02MsK"
      },
      "execution_count": null,
      "outputs": []
    }
  ]
}