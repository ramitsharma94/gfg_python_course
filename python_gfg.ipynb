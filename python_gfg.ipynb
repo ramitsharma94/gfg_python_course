{
  "nbformat": 4,
  "nbformat_minor": 0,
  "metadata": {
    "colab": {
      "provenance": [],
      "authorship_tag": "ABX9TyPzfM6OT5qfGentIhH7IkMK",
      "include_colab_link": true
    },
    "kernelspec": {
      "name": "python3",
      "display_name": "Python 3"
    },
    "language_info": {
      "name": "python"
    }
  },
  "cells": [
    {
      "cell_type": "markdown",
      "metadata": {
        "id": "view-in-github",
        "colab_type": "text"
      },
      "source": [
        "<a href=\"https://colab.research.google.com/github/ramitsharma94/gfg_python_course/blob/main/python_gfg.ipynb\" target=\"_parent\"><img src=\"https://colab.research.google.com/assets/colab-badge.svg\" alt=\"Open In Colab\"/></a>"
      ]
    },
    {
      "cell_type": "code",
      "execution_count": 1,
      "metadata": {
        "id": "tQ_HbSnc2Bjp"
      },
      "outputs": [],
      "source": [
        "# GFG Python Course\n"
      ]
    },
    {
      "cell_type": "markdown",
      "source": [
        "## LIST\n",
        "\n",
        "##### Some of the list functions are:\n",
        "\n",
        "l = [10, 20, 30, 40, 50]\n",
        "\n",
        "append - to add an item to the end of the list <br>\n",
        "l.append(30) => [10, 20, 30, 40, 50, 30]\n",
        "<br><br>\n",
        "insert - to insert an item in a certain position in a list\n",
        "<br>\n",
        "l.insert(1,100) => [10, 100, 20, 30, 40, 50, 30]\n",
        "<br><br>\n",
        "count - will count occurrences of an item in a list\n",
        "<br>\n",
        "l.count(30) => 2\n",
        "<br><br>\n",
        "l.index - will give the index of first occurring item, you can also intialize the starting index and ending index to find occurence of an in item in that range.\n",
        "<br>\n",
        "l.index(30) => 3\n",
        "l.index(30, 4, 7) => 6\n",
        "<br><br>"
      ],
      "metadata": {
        "id": "UhXZCRMh2PkF"
      }
    },
    {
      "cell_type": "code",
      "source": [],
      "metadata": {
        "id": "IRwEo7i02MsK"
      },
      "execution_count": null,
      "outputs": []
    }
  ]
}