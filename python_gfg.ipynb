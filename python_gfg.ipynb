{
  "nbformat": 4,
  "nbformat_minor": 0,
  "metadata": {
    "colab": {
      "provenance": [],
      "authorship_tag": "ABX9TyMAuV4acuCnVaJyw8OzmvBK",
      "include_colab_link": true
    },
    "kernelspec": {
      "name": "python3",
      "display_name": "Python 3"
    },
    "language_info": {
      "name": "python"
    }
  },
  "cells": [
    {
      "cell_type": "markdown",
      "metadata": {
        "id": "view-in-github",
        "colab_type": "text"
      },
      "source": [
        "<a href=\"https://colab.research.google.com/github/ramitsharma94/gfg_python_course/blob/main/python_gfg.ipynb\" target=\"_parent\"><img src=\"https://colab.research.google.com/assets/colab-badge.svg\" alt=\"Open In Colab\"/></a>"
      ]
    },
    {
      "cell_type": "code",
      "execution_count": 1,
      "metadata": {
        "id": "tQ_HbSnc2Bjp"
      },
      "outputs": [],
      "source": [
        "# GFG Python Course\n"
      ]
    },
    {
      "cell_type": "markdown",
      "source": [
        "## LIST\n",
        "\n",
        "##### Some of the list functions are:\n",
        "\n",
        "l = [10, 20, 30, 40, 50]\n",
        "\n",
        "append - to add an item to the end of the list <br>\n",
        "l.append(30) => [10, 20, 30, 40, 50, 30]\n",
        "<br><br>\n",
        "insert - to insert an item in a certain position in a list\n",
        "<br>\n",
        "l.insert(1,100) => [10, 100, 20, 30, 40, 50, 30]\n",
        "<br><br>\n",
        "count - will count occurrences of an item in a list\n",
        "<br>\n",
        "l.count(30) => 2\n",
        "<br><br>\n",
        "l.index - will give the index of first occurring item, you can also intialize the starting index and ending index to find occurence of an in item in that range. If value is not present it will raise error.\n",
        "<br>\n",
        "l.index(30) => 3\n",
        "<br>\n",
        "l.index(30, 4, 7) => 6\n",
        "<br><br>\n",
        "remove - remove a value/item from the list. Will raise error if value is not present.\n",
        "<br>\n",
        "l.remove(20) -> [10, 100, 30, 40, 50, 30]\n",
        "<br><br>\n",
        "pop - will remove last item from the list and if you provide index, it will remove the value present in that index. This returns the value of removed item.\n",
        "<br>\n",
        "l.pop() ->  [10, 100, 30, 40, 50] and will return 30\n",
        "<br>\n",
        "l.pop(2)->  [10, 100, 40, 50] and will return 30\n",
        "<br><br>\n",
        "del - it is a general keyword use for other objects as well. Here we provide list with an index of item to be removed. Can also specify range of indexes in del.\n",
        "<br>\n",
        "del l[1] -> [10, 40, 50]\n",
        "<br>\n",
        "del l[0:2] -> [50] this will remove 0 and 1 item at index\n",
        "<br><br>\n",
        "\n",
        "l = [10, 20, 30, 40, 50]\n",
        "<br><br>\n",
        "Note: Below functions will mainly work if list contains same type of items (like numeric or string). Only reverse will work in this case. Also, if its a string item list, then sum will not work but other functions will work based lexigraph.\n",
        "<br><br>\n",
        "max - to get the maximum value\n",
        "<br>\n",
        "max(l) -> 50\n",
        "<br><br>\n",
        "min - to get the minimum value\n",
        "<br>\n",
        "min(l) -> 10\n",
        "<br><br>\n",
        "sum - to get the sum value\n",
        "<br>\n",
        "sum(l) -> 150\n",
        "<br><br>\n",
        "reverse - reverses the list\n",
        "<br>\n",
        "l.reverse() -> [50, 40, 30, 20, 10]\n",
        "<br><br>\n",
        "sort - sorts the list\n",
        "<br>\n",
        "l.sort() -> [10, 20, 30, 40, 50]\n"
      ],
      "metadata": {
        "id": "UhXZCRMh2PkF"
      }
    },
    {
      "cell_type": "code",
      "source": [],
      "metadata": {
        "id": "IRwEo7i02MsK"
      },
      "execution_count": null,
      "outputs": []
    }
  ]
}